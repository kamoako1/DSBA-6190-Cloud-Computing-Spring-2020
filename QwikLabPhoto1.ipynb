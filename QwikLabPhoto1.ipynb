{
  "nbformat": 4,
  "nbformat_minor": 0,
  "metadata": {
    "colab": {
      "name": "QwikLabPhoto1.ipynb",
      "provenance": [],
      "collapsed_sections": [],
      "include_colab_link": true
    },
    "kernelspec": {
      "name": "python3",
      "display_name": "Python 3"
    }
  },
  "cells": [
    {
      "cell_type": "markdown",
      "metadata": {
        "id": "view-in-github",
        "colab_type": "text"
      },
      "source": [
        "<a href=\"https://colab.research.google.com/github/kamoako1/DSBA-6190-Cloud-Computing-Spring-2020/blob/master/QwikLabPhoto1.ipynb\" target=\"_parent\"><img src=\"https://colab.research.google.com/assets/colab-badge.svg\" alt=\"Open In Colab\"/></a>"
      ]
    },
    {
      "cell_type": "markdown",
      "metadata": {
        "id": "fCdI7zxWbAcy",
        "colab_type": "text"
      },
      "source": [
        "**Qwiklab Photo**"
      ]
    },
    {
      "cell_type": "markdown",
      "metadata": {
        "id": "B0srvtWVYUQN",
        "colab_type": "text"
      },
      "source": [
        "![alt text](https://user-images.githubusercontent.com/54414322/73123599-aae81180-3f5f-11ea-9d34-f8894d8be45d.PNG)"
      ]
    }
  ]
}