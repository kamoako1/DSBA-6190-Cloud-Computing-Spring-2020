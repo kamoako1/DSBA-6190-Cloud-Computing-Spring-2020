{
  "nbformat": 4,
  "nbformat_minor": 0,
  "metadata": {
    "colab": {
      "name": "QwikLabPhoto.ipynb",
      "provenance": [],
      "collapsed_sections": [],
      "authorship_tag": "ABX9TyO/SSvVIdhgAI8oTURKkp78",
      "include_colab_link": true
    },
    "kernelspec": {
      "name": "python3",
      "display_name": "Python 3"
    }
  },
  "cells": [
    {
      "cell_type": "markdown",
      "metadata": {
        "id": "view-in-github",
        "colab_type": "text"
      },
      "source": [
        "<a href=\"https://colab.research.google.com/github/kamoako1/DSBA-6190-Cloud-Computing-Spring-2020/blob/master/QwikLabPhoto.ipynb\" target=\"_parent\"><img src=\"https://colab.research.google.com/assets/colab-badge.svg\" alt=\"Open In Colab\"/></a>"
      ]
    },
    {
      "cell_type": "code",
      "metadata": {
        "id": "F10kKr1QYStO",
        "colab_type": "code",
        "colab": {}
      },
      "source": [
        ""
      ],
      "execution_count": 0,
      "outputs": []
    },
    {
      "cell_type": "markdown",
      "metadata": {
        "id": "B0srvtWVYUQN",
        "colab_type": "text"
      },
      "source": [
        "![alt text](https://github.com/kamoako1/DSBA-6190-Cloud-Computing-Spring-2020/issues/1#issuecomment-578416668)"
      ]
    }
  ]
}